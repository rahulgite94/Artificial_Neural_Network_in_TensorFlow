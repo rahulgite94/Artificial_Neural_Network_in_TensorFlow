{
  "nbformat": 4,
  "nbformat_minor": 0,
  "metadata": {
    "colab": {
      "name": "Building an Artificial Neural Network in TensorFlow 2.0.ipynb",
      "provenance": [],
      "collapsed_sections": []
    },
    "kernelspec": {
      "name": "python3",
      "display_name": "Python 3"
    }
  },
  "cells": [
    {
      "cell_type": "markdown",
      "metadata": {
        "id": "JtZ77AWTPutk",
        "colab_type": "text"
      },
      "source": [
        "# We will be building a ANN from Fashion Minst Dataset from Kaggel"
      ]
    },
    {
      "cell_type": "code",
      "metadata": {
        "id": "rneKMYSzP6b9",
        "colab_type": "code",
        "colab": {}
      },
      "source": [
        "import numpy as np\n",
        "import datetime\n",
        "import tensorflow as tf\n",
        "from tensorflow.keras.datasets import fashion_mnist"
      ],
      "execution_count": null,
      "outputs": []
    },
    {
      "cell_type": "markdown",
      "metadata": {
        "id": "JgJ9PDlbQQDy",
        "colab_type": "text"
      },
      "source": [
        "## Data Preprocessing "
      ]
    },
    {
      "cell_type": "markdown",
      "metadata": {
        "id": "MpaiD_lxy9R5",
        "colab_type": "text"
      },
      "source": [
        "Loding the fashion_mnist dataset"
      ]
    },
    {
      "cell_type": "code",
      "metadata": {
        "id": "YjLspE82zIHX",
        "colab_type": "code",
        "colab": {
          "base_uri": "https://localhost:8080/",
          "height": 153
        },
        "outputId": "90d8d94f-7aa9-4e7f-8e0f-e3635960689f"
      },
      "source": [
        "(X_train, y_train),(X_test, y_test) = fashion_mnist.load_data()"
      ],
      "execution_count": null,
      "outputs": [
        {
          "output_type": "stream",
          "text": [
            "Downloading data from https://storage.googleapis.com/tensorflow/tf-keras-datasets/train-labels-idx1-ubyte.gz\n",
            "32768/29515 [=================================] - 0s 0us/step\n",
            "Downloading data from https://storage.googleapis.com/tensorflow/tf-keras-datasets/train-images-idx3-ubyte.gz\n",
            "26427392/26421880 [==============================] - 0s 0us/step\n",
            "Downloading data from https://storage.googleapis.com/tensorflow/tf-keras-datasets/t10k-labels-idx1-ubyte.gz\n",
            "8192/5148 [===============================================] - 0s 0us/step\n",
            "Downloading data from https://storage.googleapis.com/tensorflow/tf-keras-datasets/t10k-images-idx3-ubyte.gz\n",
            "4423680/4422102 [==============================] - 0s 0us/step\n"
          ],
          "name": "stdout"
        }
      ]
    },
    {
      "cell_type": "code",
      "metadata": {
        "id": "Akg174aU7jI5",
        "colab_type": "code",
        "colab": {
          "base_uri": "https://localhost:8080/",
          "height": 34
        },
        "outputId": "f4a10d89-ea82-4a1e-9ec7-dedc2129e2b9"
      },
      "source": [
        "y_train.shape"
      ],
      "execution_count": null,
      "outputs": [
        {
          "output_type": "execute_result",
          "data": {
            "text/plain": [
              "(60000,)"
            ]
          },
          "metadata": {
            "tags": []
          },
          "execution_count": 4
        }
      ]
    },
    {
      "cell_type": "code",
      "metadata": {
        "id": "muINSGKKOWKE",
        "colab_type": "code",
        "colab": {
          "base_uri": "https://localhost:8080/",
          "height": 34
        },
        "outputId": "f242b9bc-2097-4f07-d557-35c5ae36f692"
      },
      "source": [
        "X_train.shape"
      ],
      "execution_count": null,
      "outputs": [
        {
          "output_type": "execute_result",
          "data": {
            "text/plain": [
              "(60000, 28, 28)"
            ]
          },
          "metadata": {
            "tags": []
          },
          "execution_count": 5
        }
      ]
    },
    {
      "cell_type": "markdown",
      "metadata": {
        "id": "3QmW-54kzdkb",
        "colab_type": "text"
      },
      "source": [
        "### Normalizing the Images\n",
        "- We divide each pixel of the image in training and testing set by the maximum number of pixels (255), This process is called normalizing dataset.\n",
        "- By normalizing the pixel will be in range of [0,1], by doing this our model (ANN) will train faster\n"
      ]
    },
    {
      "cell_type": "code",
      "metadata": {
        "id": "1-xfDcT92TSC",
        "colab_type": "code",
        "colab": {}
      },
      "source": [
        "X_train = X_train / 255.0\n",
        "X_test = X_test / 255.0"
      ],
      "execution_count": null,
      "outputs": []
    },
    {
      "cell_type": "markdown",
      "metadata": {
        "id": "QGoA-ZFj2Wik",
        "colab_type": "text"
      },
      "source": [
        "### Reshaping the Dataset\n",
        "Since we are building a fully connected network, we are reshaping the training and testing set into vector format"
      ]
    },
    {
      "cell_type": "code",
      "metadata": {
        "id": "SUtia1Ty33GG",
        "colab_type": "code",
        "colab": {
          "base_uri": "https://localhost:8080/",
          "height": 34
        },
        "outputId": "3cbbe208-9f9d-4ae6-937b-f2352b73a3cc"
      },
      "source": [
        "# the current shape of the dataset is 3D, 6000 in the number of images and dimension of image is 28*28. \n",
        "# So we will reshape the whole dataset into [-1(all the elements), height * width] \n",
        "X_train.shape"
      ],
      "execution_count": null,
      "outputs": [
        {
          "output_type": "execute_result",
          "data": {
            "text/plain": [
              "(60000, 28, 28)"
            ]
          },
          "metadata": {
            "tags": []
          },
          "execution_count": 7
        }
      ]
    },
    {
      "cell_type": "code",
      "metadata": {
        "id": "cbutmUiX4svo",
        "colab_type": "code",
        "colab": {}
      },
      "source": [
        "X_train = X_train.reshape(-1, 28* 28)\n",
        "X_test = X_test.reshape(-1, 28*28)"
      ],
      "execution_count": null,
      "outputs": []
    },
    {
      "cell_type": "code",
      "metadata": {
        "id": "Drfz7mHI6w6-",
        "colab_type": "code",
        "colab": {
          "base_uri": "https://localhost:8080/",
          "height": 34
        },
        "outputId": "3e28496d-9c55-4467-b82c-fbeff7ae7756"
      },
      "source": [
        "X_train.shape"
      ],
      "execution_count": null,
      "outputs": [
        {
          "output_type": "execute_result",
          "data": {
            "text/plain": [
              "(60000, 784)"
            ]
          },
          "metadata": {
            "tags": []
          },
          "execution_count": 9
        }
      ]
    },
    {
      "cell_type": "markdown",
      "metadata": {
        "id": "ReKjri5b6zPB",
        "colab_type": "text"
      },
      "source": [
        "### Building a Artificial Neural Network"
      ]
    },
    {
      "cell_type": "markdown",
      "metadata": {
        "id": "RCg62gzV1ifF",
        "colab_type": "text"
      },
      "source": [
        "There are two ways to build Keras models: sequential and functional.\n",
        "\n",
        "**Sequential** API allows us to create model layer by layer where each layer has exactly one input tensor and one output tensor.\n",
        "\n",
        "**Functional** API is more flexible, we can connect any layer to any other layer, and each layer can have multiple inputs or outputs tensor."
      ]
    },
    {
      "cell_type": "markdown",
      "metadata": {
        "id": "BzlZ__DnIdSM",
        "colab_type": "text"
      },
      "source": [
        "### Defining a sequential model."
      ]
    },
    {
      "cell_type": "code",
      "metadata": {
        "id": "gUIIg6u119T4",
        "colab_type": "code",
        "colab": {}
      },
      "source": [
        "model=tf.keras.models.Sequential()"
      ],
      "execution_count": null,
      "outputs": []
    },
    {
      "cell_type": "markdown",
      "metadata": {
        "id": "IEQxSIJc2GPQ",
        "colab_type": "text"
      },
      "source": [
        "### Adding a first fully-connected layer"
      ]
    },
    {
      "cell_type": "markdown",
      "metadata": {
        "id": "MEciSzHq2ZYc",
        "colab_type": "text"
      },
      "source": [
        "Hyper Parameters of the Layer:\n",
        "- Number of units/ Neuron (128)\n",
        "- activation function : ReLu\n",
        "- Input shape : (784,)"
      ]
    },
    {
      "cell_type": "code",
      "metadata": {
        "id": "10rDgNvg3M8_",
        "colab_type": "code",
        "colab": {}
      },
      "source": [
        "model.add(tf.keras.layers.Dense(units=150,activation='relu', input_shape=(784,)))"
      ],
      "execution_count": null,
      "outputs": []
    },
    {
      "cell_type": "markdown",
      "metadata": {
        "id": "dFl1NW5iJaGc",
        "colab_type": "text"
      },
      "source": [
        "**Activation Function** helps to check whether the output Y produced by a neuron should be considered or not by the other neuron. In other term we say a neuron is activated or not. "
      ]
    },
    {
      "cell_type": "markdown",
      "metadata": {
        "id": "cVF8Q9My35GK",
        "colab_type": "text"
      },
      "source": [
        "### Adding a Second Layer with Dropouts"
      ]
    },
    {
      "cell_type": "markdown",
      "metadata": {
        "id": "olLykaK94bI-",
        "colab_type": "text"
      },
      "source": [
        "**Dropout** is Regularization technique. By adding a dropout layer means that Neural Network will deactivate some of the neurons while backpropogation. While training those Neuron won't be updated in this way there will less chances of overfitting."
      ]
    },
    {
      "cell_type": "code",
      "metadata": {
        "id": "YSyOCigo6lcu",
        "colab_type": "code",
        "colab": {}
      },
      "source": [
        "model.add(tf.keras.layers.Dropout(0.2))"
      ],
      "execution_count": null,
      "outputs": []
    },
    {
      "cell_type": "markdown",
      "metadata": {
        "id": "k9OOpVet69Zs",
        "colab_type": "text"
      },
      "source": [
        "## Adding the output layer\n",
        "-  **units**: number of classes in output layer (10, as there are 10 cataegories of clothes in Fasion MNIST dataset)\n",
        "- **activation**: softmax (as we will get probability for each classes)"
      ]
    },
    {
      "cell_type": "code",
      "metadata": {
        "id": "LZfvMTUw7j4G",
        "colab_type": "code",
        "colab": {}
      },
      "source": [
        "model.add(tf.keras.layers.Dense(units=10,activation='softmax'))"
      ],
      "execution_count": null,
      "outputs": []
    },
    {
      "cell_type": "markdown",
      "metadata": {
        "id": "r0a-rrCo9Tgx",
        "colab_type": "text"
      },
      "source": [
        "Compiling the Model\n",
        "- Optimizer: Adam\n",
        "- Loss: Sparse softmax (Categorical) Crossentropy"
      ]
    },
    {
      "cell_type": "markdown",
      "metadata": {
        "id": "Jd06iidwOyfk",
        "colab_type": "text"
      },
      "source": [
        "By compiling we will choose the optimizer and loss for the model.\n",
        "Optimizer is the tool which updates the weights during the schocasting gradient desent when backpropogating the loss back to the Neural Network. It defines the value of the parameters such that Loss function is at its lowest.\n",
        "\n",
        "Loss is the difference in our prediction and the actual value.\n",
        "\n",
        "Metrics is the accuracy ie no. of correct predictions / total number of observations"
      ]
    },
    {
      "cell_type": "code",
      "metadata": {
        "id": "Nge4y8aAQCMK",
        "colab_type": "code",
        "colab": {}
      },
      "source": [
        "model.compile(optimizer='adam', loss='sparse_categorical_crossentropy', metrics=['sparse_categorical_accuracy'] )"
      ],
      "execution_count": null,
      "outputs": []
    },
    {
      "cell_type": "code",
      "metadata": {
        "id": "mSZunQYIRhzi",
        "colab_type": "code",
        "colab": {
          "base_uri": "https://localhost:8080/",
          "height": 255
        },
        "outputId": "348a2307-2c43-47c6-d9f4-127fabdbfc60"
      },
      "source": [
        "model.summary()"
      ],
      "execution_count": null,
      "outputs": [
        {
          "output_type": "stream",
          "text": [
            "Model: \"sequential\"\n",
            "_________________________________________________________________\n",
            "Layer (type)                 Output Shape              Param #   \n",
            "=================================================================\n",
            "dense (Dense)                (None, 150)               117750    \n",
            "_________________________________________________________________\n",
            "dropout (Dropout)            (None, 150)               0         \n",
            "_________________________________________________________________\n",
            "dense_1 (Dense)              (None, 10)                1510      \n",
            "=================================================================\n",
            "Total params: 119,260\n",
            "Trainable params: 119,260\n",
            "Non-trainable params: 0\n",
            "_________________________________________________________________\n"
          ],
          "name": "stdout"
        }
      ]
    },
    {
      "cell_type": "code",
      "metadata": {
        "id": "0RKUvNcmSHQl",
        "colab_type": "code",
        "colab": {
          "base_uri": "https://localhost:8080/",
          "height": 204
        },
        "outputId": "c52208e4-424f-4e3a-d3d4-f3381aafd5af"
      },
      "source": [
        "model.fit(X_train,y_train,epochs=5)"
      ],
      "execution_count": null,
      "outputs": [
        {
          "output_type": "stream",
          "text": [
            "Epoch 1/5\n",
            "1875/1875 [==============================] - 4s 2ms/step - loss: 0.5269 - sparse_categorical_accuracy: 0.8128\n",
            "Epoch 2/5\n",
            "1875/1875 [==============================] - 4s 2ms/step - loss: 0.3950 - sparse_categorical_accuracy: 0.8581\n",
            "Epoch 3/5\n",
            "1875/1875 [==============================] - 4s 2ms/step - loss: 0.3651 - sparse_categorical_accuracy: 0.8664\n",
            "Epoch 4/5\n",
            "1875/1875 [==============================] - 4s 2ms/step - loss: 0.3424 - sparse_categorical_accuracy: 0.8747\n",
            "Epoch 5/5\n",
            "1875/1875 [==============================] - 4s 2ms/step - loss: 0.3269 - sparse_categorical_accuracy: 0.8800\n"
          ],
          "name": "stdout"
        },
        {
          "output_type": "execute_result",
          "data": {
            "text/plain": [
              "<tensorflow.python.keras.callbacks.History at 0x7f997de33f28>"
            ]
          },
          "metadata": {
            "tags": []
          },
          "execution_count": 16
        }
      ]
    },
    {
      "cell_type": "markdown",
      "metadata": {
        "id": "qL83m0-cD6NM",
        "colab_type": "text"
      },
      "source": [
        "## **Model evaluation and prediction**"
      ]
    },
    {
      "cell_type": "code",
      "metadata": {
        "id": "KPu9tdrCSUdr",
        "colab_type": "code",
        "colab": {
          "base_uri": "https://localhost:8080/",
          "height": 34
        },
        "outputId": "1534371c-c1e7-4a4d-d9ee-f9a516cd3390"
      },
      "source": [
        "test_loss, test_accuracy = model.evaluate(X_test, y_test)"
      ],
      "execution_count": null,
      "outputs": [
        {
          "output_type": "stream",
          "text": [
            "313/313 [==============================] - 0s 2ms/step - loss: 0.3436 - sparse_categorical_accuracy: 0.8769\n"
          ],
          "name": "stdout"
        }
      ]
    },
    {
      "cell_type": "code",
      "metadata": {
        "id": "2yeFY2XxD2rN",
        "colab_type": "code",
        "colab": {
          "base_uri": "https://localhost:8080/",
          "height": 34
        },
        "outputId": "c87c3420-cda5-436a-9288-2c0b380b4a34"
      },
      "source": [
        "print(\"Test accuracy: {}\".format(test_accuracy))"
      ],
      "execution_count": null,
      "outputs": [
        {
          "output_type": "stream",
          "text": [
            "Test accuracy: 0.8769000172615051\n"
          ],
          "name": "stdout"
        }
      ]
    },
    {
      "cell_type": "code",
      "metadata": {
        "id": "YDjO7bgXFM5j",
        "colab_type": "code",
        "colab": {}
      },
      "source": [
        ""
      ],
      "execution_count": null,
      "outputs": []
    }
  ]
}